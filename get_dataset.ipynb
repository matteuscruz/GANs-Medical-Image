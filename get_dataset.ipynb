{
  "nbformat": 4,
  "nbformat_minor": 0,
  "metadata": {
    "colab": {
      "provenance": []
    },
    "kernelspec": {
      "name": "python3",
      "display_name": "Python 3"
    },
    "language_info": {
      "name": "python"
    }
  },
  "cells": [
    {
      "cell_type": "code",
      "execution_count": null,
      "metadata": {
        "id": "vG-29VW4jBt7"
      },
      "outputs": [],
      "source": [
        "### Pneumonia (Adult) Dataset\n",
        "%%capture\n",
        "!pip install roboflow\n",
        "\n",
        "from roboflow import Roboflow\n",
        "rf = Roboflow(api_key=\"TycSacoLGqa1qKaf5k0X\")\n",
        "project = rf.workspace(\"inatel\").project(\"pneumonia-classification-imrcv\")\n",
        "dataset = project.version(1).download(\"folder\")\n",
        "data_dir = '/content/pneumonia-classification-1/train'"
      ]
    }
  ]
}